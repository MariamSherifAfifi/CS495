{
  "nbformat": 4,
  "nbformat_minor": 0,
  "metadata": {
    "colab": {
      "name": "Copy of Untitled1.ipynb",
      "provenance": [],
      "collapsed_sections": [],
      "authorship_tag": "ABX9TyNXosuZnLrbyC+/sswIpQ32",
      "include_colab_link": true
    },
    "kernelspec": {
      "name": "python3",
      "display_name": "Python 3"
    },
    "language_info": {
      "name": "python"
    }
  },
  "cells": [
    {
      "cell_type": "markdown",
      "metadata": {
        "id": "view-in-github",
        "colab_type": "text"
      },
      "source": [
        "<a href=\"https://colab.research.google.com/github/MariamSherifAfifi/CS495/blob/master/Copy_of_Untitled1.ipynb\" target=\"_parent\"><img src=\"https://colab.research.google.com/assets/colab-badge.svg\" alt=\"Open In Colab\"/></a>"
      ]
    },
    {
      "cell_type": "code",
      "metadata": {
        "id": "PUpZJDuqtxQg"
      },
      "source": [
        "import pandas as pd\n",
        "import matplotlib.pyplot as plt\n",
        "import numpy as np\n",
        "pd.options.display.max_columns=30\n",
        "pd.options.display.float_format = '{:.2f}'.format"
      ],
      "execution_count": null,
      "outputs": []
    },
    {
      "cell_type": "code",
      "metadata": {
        "id": "nR74wySsyEPe"
      },
      "source": [
        "df=pd.read_csv(\"/Sales Data.csv\")"
      ],
      "execution_count": null,
      "outputs": []
    },
    {
      "cell_type": "code",
      "metadata": {
        "colab": {
          "base_uri": "https://localhost:8080/",
          "height": 402
        },
        "id": "P_rmEQyDx-xf",
        "outputId": "efbd84a3-4377-4f66-f10e-dac1dccd3454"
      },
      "source": [
        "df"
      ],
      "execution_count": null,
      "outputs": [
        {
          "output_type": "execute_result",
          "data": {
            "text/html": [
              "<div>\n",
              "<style scoped>\n",
              "    .dataframe tbody tr th:only-of-type {\n",
              "        vertical-align: middle;\n",
              "    }\n",
              "\n",
              "    .dataframe tbody tr th {\n",
              "        vertical-align: top;\n",
              "    }\n",
              "\n",
              "    .dataframe thead th {\n",
              "        text-align: right;\n",
              "    }\n",
              "</style>\n",
              "<table border=\"1\" class=\"dataframe\">\n",
              "  <thead>\n",
              "    <tr style=\"text-align: right;\">\n",
              "      <th></th>\n",
              "      <th>Date</th>\n",
              "      <th>EMP ID</th>\n",
              "      <th>Product ID</th>\n",
              "      <th>Unit Sold</th>\n",
              "    </tr>\n",
              "  </thead>\n",
              "  <tbody>\n",
              "    <tr>\n",
              "      <th>0</th>\n",
              "      <td>1-Jan-19</td>\n",
              "      <td>10019</td>\n",
              "      <td>P10007</td>\n",
              "      <td>199</td>\n",
              "    </tr>\n",
              "    <tr>\n",
              "      <th>1</th>\n",
              "      <td>1-Jan-19</td>\n",
              "      <td>10005</td>\n",
              "      <td>P10001</td>\n",
              "      <td>71</td>\n",
              "    </tr>\n",
              "    <tr>\n",
              "      <th>2</th>\n",
              "      <td>1-Jan-19</td>\n",
              "      <td>10004</td>\n",
              "      <td>P10019</td>\n",
              "      <td>201</td>\n",
              "    </tr>\n",
              "    <tr>\n",
              "      <th>3</th>\n",
              "      <td>1-Jan-19</td>\n",
              "      <td>10014</td>\n",
              "      <td>P10022</td>\n",
              "      <td>246</td>\n",
              "    </tr>\n",
              "    <tr>\n",
              "      <th>4</th>\n",
              "      <td>1-Jan-19</td>\n",
              "      <td>10005</td>\n",
              "      <td>P10004</td>\n",
              "      <td>106</td>\n",
              "    </tr>\n",
              "    <tr>\n",
              "      <th>...</th>\n",
              "      <td>...</td>\n",
              "      <td>...</td>\n",
              "      <td>...</td>\n",
              "      <td>...</td>\n",
              "    </tr>\n",
              "    <tr>\n",
              "      <th>6485</th>\n",
              "      <td>20-Apr-19</td>\n",
              "      <td>10015</td>\n",
              "      <td>P10002</td>\n",
              "      <td>150</td>\n",
              "    </tr>\n",
              "    <tr>\n",
              "      <th>6486</th>\n",
              "      <td>20-Apr-19</td>\n",
              "      <td>10007</td>\n",
              "      <td>P10023</td>\n",
              "      <td>145</td>\n",
              "    </tr>\n",
              "    <tr>\n",
              "      <th>6487</th>\n",
              "      <td>20-Apr-19</td>\n",
              "      <td>10011</td>\n",
              "      <td>P10009</td>\n",
              "      <td>215</td>\n",
              "    </tr>\n",
              "    <tr>\n",
              "      <th>6488</th>\n",
              "      <td>20-Apr-19</td>\n",
              "      <td>10012</td>\n",
              "      <td>P10029</td>\n",
              "      <td>206</td>\n",
              "    </tr>\n",
              "    <tr>\n",
              "      <th>6489</th>\n",
              "      <td>20-Apr-19</td>\n",
              "      <td>10006</td>\n",
              "      <td>P10019</td>\n",
              "      <td>263</td>\n",
              "    </tr>\n",
              "  </tbody>\n",
              "</table>\n",
              "<p>6490 rows × 4 columns</p>\n",
              "</div>"
            ],
            "text/plain": [
              "           Date  EMP ID Product ID  Unit Sold\n",
              "0      1-Jan-19   10019     P10007        199\n",
              "1      1-Jan-19   10005     P10001         71\n",
              "2      1-Jan-19   10004     P10019        201\n",
              "3      1-Jan-19   10014     P10022        246\n",
              "4      1-Jan-19   10005     P10004        106\n",
              "...         ...     ...        ...        ...\n",
              "6485  20-Apr-19   10015     P10002        150\n",
              "6486  20-Apr-19   10007     P10023        145\n",
              "6487  20-Apr-19   10011     P10009        215\n",
              "6488  20-Apr-19   10012     P10029        206\n",
              "6489  20-Apr-19   10006     P10019        263\n",
              "\n",
              "[6490 rows x 4 columns]"
            ]
          },
          "metadata": {
            "tags": []
          },
          "execution_count": 12
        }
      ]
    },
    {
      "cell_type": "code",
      "metadata": {
        "colab": {
          "base_uri": "https://localhost:8080/"
        },
        "id": "2aVVTQwu0jsP",
        "outputId": "4c5e2d30-22f6-4561-8811-32e09ad7d3c5"
      },
      "source": [
        "print (df['Product ID'])"
      ],
      "execution_count": null,
      "outputs": [
        {
          "output_type": "stream",
          "text": [
            "0       P10007\n",
            "1       P10001\n",
            "2       P10019\n",
            "3       P10022\n",
            "4       P10004\n",
            "         ...  \n",
            "6485    P10002\n",
            "6486    P10023\n",
            "6487    P10009\n",
            "6488    P10029\n",
            "6489    P10019\n",
            "Name: Product ID, Length: 6490, dtype: object\n"
          ],
          "name": "stdout"
        }
      ]
    },
    {
      "cell_type": "code",
      "metadata": {
        "colab": {
          "base_uri": "https://localhost:8080/"
        },
        "id": "XvvrMyd52FT1",
        "outputId": "ee6cc1c2-d374-4449-ca4b-39803ec2038d"
      },
      "source": [
        "print ((df['Product ID']).isnull())"
      ],
      "execution_count": null,
      "outputs": [
        {
          "output_type": "stream",
          "text": [
            "0       False\n",
            "1       False\n",
            "2       False\n",
            "3       False\n",
            "4       False\n",
            "        ...  \n",
            "6485    False\n",
            "6486    False\n",
            "6487    False\n",
            "6488    False\n",
            "6489    False\n",
            "Name: Product ID, Length: 6490, dtype: bool\n"
          ],
          "name": "stdout"
        }
      ]
    },
    {
      "cell_type": "code",
      "metadata": {
        "colab": {
          "base_uri": "https://localhost:8080/"
        },
        "id": "qsklLqOa2RDB",
        "outputId": "83cc5dd2-42e3-4282-fe99-409187318b77"
      },
      "source": [
        "print (df.isnull().sum())"
      ],
      "execution_count": null,
      "outputs": [
        {
          "output_type": "stream",
          "text": [
            "Date          0\n",
            "EMP ID        0\n",
            "Product ID    0\n",
            "Unit Sold     0\n",
            "dtype: int64\n"
          ],
          "name": "stdout"
        }
      ]
    }
  ]
}